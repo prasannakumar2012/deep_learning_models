{
 "cells": [
  {
   "cell_type": "code",
   "execution_count": 10,
   "metadata": {},
   "outputs": [
    {
     "ename": "ImportError",
     "evalue": "No module named 'fbprophet'",
     "output_type": "error",
     "traceback": [
      "\u001b[0;31m---------------------------------------------------------------------------\u001b[0m",
      "\u001b[0;31mImportError\u001b[0m                               Traceback (most recent call last)",
      "\u001b[0;32m<ipython-input-10-9e12cbc46e45>\u001b[0m in \u001b[0;36m<module>\u001b[0;34m()\u001b[0m\n\u001b[0;32m----> 1\u001b[0;31m \u001b[0;32mfrom\u001b[0m \u001b[0mstocker\u001b[0m \u001b[0;32mimport\u001b[0m \u001b[0mStocker\u001b[0m\u001b[0;34m\u001b[0m\u001b[0m\n\u001b[0m",
      "\u001b[0;32m~/deep_learning_models/stocker.py\u001b[0m in \u001b[0;36m<module>\u001b[0;34m()\u001b[0m\n\u001b[1;32m      4\u001b[0m \u001b[0;32mimport\u001b[0m \u001b[0mpandas\u001b[0m \u001b[0;32mas\u001b[0m \u001b[0mpd\u001b[0m\u001b[0;34m\u001b[0m\u001b[0m\n\u001b[1;32m      5\u001b[0m \u001b[0;32mimport\u001b[0m \u001b[0mnumpy\u001b[0m \u001b[0;32mas\u001b[0m \u001b[0mnp\u001b[0m\u001b[0;34m\u001b[0m\u001b[0m\n\u001b[0;32m----> 6\u001b[0;31m \u001b[0;32mimport\u001b[0m \u001b[0mfbprophet\u001b[0m\u001b[0;34m\u001b[0m\u001b[0m\n\u001b[0m\u001b[1;32m      7\u001b[0m \u001b[0;32mimport\u001b[0m \u001b[0mpytrends\u001b[0m\u001b[0;34m\u001b[0m\u001b[0m\n\u001b[1;32m      8\u001b[0m \u001b[0;32mfrom\u001b[0m \u001b[0mpytrends\u001b[0m\u001b[0;34m.\u001b[0m\u001b[0mrequest\u001b[0m \u001b[0;32mimport\u001b[0m \u001b[0mTrendReq\u001b[0m\u001b[0;34m\u001b[0m\u001b[0m\n",
      "\u001b[0;31mImportError\u001b[0m: No module named 'fbprophet'"
     ]
    }
   ],
   "source": [
    "from stocker import Stocker"
   ]
  },
  {
   "cell_type": "code",
   "execution_count": 11,
   "metadata": {},
   "outputs": [
    {
     "name": "stdout",
     "output_type": "stream",
     "text": [
      "Collecting zipline\n",
      "  Downloading zipline-1.1.1.tar.gz (640kB)\n",
      "\u001b[K    100% |████████████████████████████████| 645kB 631kB/s ta 0:00:01\n",
      "\u001b[?25hRequirement already satisfied: pip>=7.1.0 in /Library/Frameworks/Python.framework/Versions/3.5/lib/python3.5/site-packages (from zipline)\n",
      "Requirement already satisfied: setuptools>18.0 in /Library/Frameworks/Python.framework/Versions/3.5/lib/python3.5/site-packages (from zipline)\n",
      "Collecting Logbook>=0.12.5 (from zipline)\n",
      "  Downloading Logbook-1.1.0.tar.gz (186kB)\n",
      "\u001b[K    100% |████████████████████████████████| 194kB 1.5MB/s ta 0:00:01\n",
      "\u001b[?25hRequirement already satisfied: pytz>=2016.4 in /Library/Frameworks/Python.framework/Versions/3.5/lib/python3.5/site-packages (from zipline)\n",
      "Requirement already satisfied: numpy>=1.11.1 in /Library/Frameworks/Python.framework/Versions/3.5/lib/python3.5/site-packages (from zipline)\n",
      "Collecting requests-file>=1.4.1 (from zipline)\n",
      "  Downloading requests_file-1.4.3-py2.py3-none-any.whl\n",
      "Requirement already satisfied: scipy>=0.17.1 in /Library/Frameworks/Python.framework/Versions/3.5/lib/python3.5/site-packages (from zipline)\n",
      "Collecting pandas<0.19,>=0.18.1 (from zipline)\n",
      "  Downloading pandas-0.18.1-cp35-cp35m-macosx_10_6_intel.macosx_10_9_intel.macosx_10_9_x86_64.macosx_10_10_intel.macosx_10_10_x86_64.whl (9.9MB)\n",
      "\u001b[K    100% |████████████████████████████████| 9.9MB 89kB/s  eta 0:00:01\n",
      "\u001b[?25hCollecting pandas-datareader>=0.2.1 (from zipline)\n",
      "  Downloading pandas_datareader-0.5.0-py2.py3-none-any.whl (74kB)\n",
      "\u001b[K    100% |████████████████████████████████| 81kB 3.5MB/s ta 0:00:011\n",
      "\u001b[?25hRequirement already satisfied: patsy>=0.4.0 in /Library/Frameworks/Python.framework/Versions/3.5/lib/python3.5/site-packages (from zipline)\n",
      "Requirement already satisfied: statsmodels>=0.6.1 in /Library/Frameworks/Python.framework/Versions/3.5/lib/python3.5/site-packages (from zipline)\n",
      "Requirement already satisfied: python-dateutil>=2.4.2 in /Library/Frameworks/Python.framework/Versions/3.5/lib/python3.5/site-packages (from zipline)\n",
      "Requirement already satisfied: six>=1.10.0 in /Library/Frameworks/Python.framework/Versions/3.5/lib/python3.5/site-packages (from zipline)\n",
      "Requirement already satisfied: requests>=2.9.1 in /Library/Frameworks/Python.framework/Versions/3.5/lib/python3.5/site-packages (from zipline)\n",
      "Requirement already satisfied: Cython>=0.25.2 in /Library/Frameworks/Python.framework/Versions/3.5/lib/python3.5/site-packages (from zipline)\n",
      "Collecting cyordereddict>=0.2.2 (from zipline)\n",
      "  Using cached cyordereddict-1.0.0.tar.gz\n",
      "Collecting bottleneck>=1.0.0 (from zipline)\n",
      "  Using cached Bottleneck-1.2.1.tar.gz\n",
      "Collecting contextlib2>=0.4.0 (from zipline)\n",
      "  Using cached contextlib2-0.5.5-py2.py3-none-any.whl\n",
      "Requirement already satisfied: decorator>=4.0.0 in /Library/Frameworks/Python.framework/Versions/3.5/lib/python3.5/site-packages (from zipline)\n",
      "Requirement already satisfied: networkx>=1.9.1 in /Library/Frameworks/Python.framework/Versions/3.5/lib/python3.5/site-packages (from zipline)\n",
      "Requirement already satisfied: numexpr>=2.6.1 in /Library/Frameworks/Python.framework/Versions/3.5/lib/python3.5/site-packages (from zipline)\n",
      "Collecting bcolz<1,>=0.12.1 (from zipline)\n",
      "  Using cached bcolz-0.12.1.tar.gz\n",
      "Collecting click>=4.0.0 (from zipline)\n",
      "  Downloading click-6.7-py2.py3-none-any.whl (71kB)\n",
      "\u001b[K    100% |████████████████████████████████| 71kB 3.1MB/s ta 0:00:011\n",
      "\u001b[?25hRequirement already satisfied: toolz>=0.8.2 in /Library/Frameworks/Python.framework/Versions/3.5/lib/python3.5/site-packages (from zipline)\n",
      "Collecting multipledispatch>=0.4.8 (from zipline)\n",
      "  Using cached multipledispatch-0.4.9-py2.py3-none-any.whl\n",
      "Requirement already satisfied: MarkupSafe>=0.23 in /Library/Frameworks/Python.framework/Versions/3.5/lib/python3.5/site-packages (from zipline)\n",
      "Collecting Mako>=1.0.1 (from zipline)\n",
      "  Downloading Mako-1.0.7.tar.gz (564kB)\n",
      "\u001b[K    100% |████████████████████████████████| 573kB 1.0MB/s ta 0:00:01\n",
      "\u001b[?25hRequirement already satisfied: sqlalchemy>=1.0.8 in /Library/Frameworks/Python.framework/Versions/3.5/lib/python3.5/site-packages (from zipline)\n",
      "Collecting alembic>=0.7.7 (from zipline)\n",
      "  Downloading alembic-0.9.7.tar.gz (1.0MB)\n",
      "\u001b[K    100% |████████████████████████████████| 1.0MB 727kB/s ta 0:00:011\n",
      "\u001b[?25hCollecting sortedcontainers>=1.4.4 (from zipline)\n",
      "  Downloading sortedcontainers-1.5.9-py2.py3-none-any.whl\n",
      "Collecting intervaltree>=2.1.0 (from zipline)\n",
      "  Using cached intervaltree-2.1.0.tar.gz\n",
      "Collecting lru-dict>=1.1.4 (from zipline)\n",
      "  Using cached lru-dict-1.1.6.tar.gz\n",
      "Collecting empyrical>=0.2.2 (from zipline)\n",
      "  Downloading empyrical-0.3.3.tar.gz\n",
      "Collecting tables>=3.3.0 (from zipline)\n",
      "  Downloading tables-3.4.2-cp35-cp35m-macosx_10_6_intel.macosx_10_9_intel.macosx_10_9_x86_64.macosx_10_10_intel.macosx_10_10_x86_64.whl (6.6MB)\n",
      "\u001b[K    100% |████████████████████████████████| 6.6MB 91kB/s eta 0:00:011  3% |█                               | 204kB 1.6MB/s eta 0:00:04    10% |███▌                            | 716kB 7.6MB/s eta 0:00:01    34% |███████████▏                    | 2.3MB 3.0MB/s eta 0:00:02\n",
      "\u001b[?25hCollecting requests-ftp (from pandas-datareader>=0.2.1->zipline)\n",
      "  Using cached requests-ftp-0.3.1.tar.gz\n",
      "Requirement already satisfied: urllib3<1.23,>=1.21.1 in /Library/Frameworks/Python.framework/Versions/3.5/lib/python3.5/site-packages (from requests>=2.9.1->zipline)\n",
      "Requirement already satisfied: certifi>=2017.4.17 in /Library/Frameworks/Python.framework/Versions/3.5/lib/python3.5/site-packages (from requests>=2.9.1->zipline)\n",
      "Requirement already satisfied: idna<2.7,>=2.5 in /Library/Frameworks/Python.framework/Versions/3.5/lib/python3.5/site-packages (from requests>=2.9.1->zipline)\n",
      "Requirement already satisfied: chardet<3.1.0,>=3.0.2 in /Library/Frameworks/Python.framework/Versions/3.5/lib/python3.5/site-packages (from requests>=2.9.1->zipline)\n",
      "Collecting python-editor>=0.3 (from alembic>=0.7.7->zipline)\n",
      "  Using cached python-editor-1.0.3.tar.gz\n",
      "Building wheels for collected packages: zipline, Logbook, cyordereddict, bottleneck, bcolz, Mako, alembic, intervaltree, lru-dict, empyrical, requests-ftp, python-editor\n",
      "  Running setup.py bdist_wheel for zipline ... \u001b[?25ldone\n",
      "\u001b[?25h  Stored in directory: /Users/prasanna/Library/Caches/pip/wheels/73/97/40/91c1fb29ac30b154f8abfe338d4f43db39a2e12e5ace1bad02\n",
      "  Running setup.py bdist_wheel for Logbook ... \u001b[?25ldone\n",
      "\u001b[?25h  Stored in directory: /Users/prasanna/Library/Caches/pip/wheels/31/86/aa/df1cfc7eb9bb5812a9ed7442eee3e8aad7b992b6d88faed6e2\n",
      "  Running setup.py bdist_wheel for cyordereddict ... \u001b[?25ldone\n",
      "\u001b[?25h  Stored in directory: /Users/prasanna/Library/Caches/pip/wheels/7f/3d/31/45dfd86ff0a199d2cf84f74a16aa6dd009b99f3d1dcb0a58ce\n",
      "  Running setup.py bdist_wheel for bottleneck ... \u001b[?25ldone\n",
      "\u001b[?25h  Stored in directory: /Users/prasanna/Library/Caches/pip/wheels/4d/56/b2/36b69796ed42dbb94d921772e9d9dedeb90e62905b1069f09a\n",
      "  Running setup.py bdist_wheel for bcolz ... \u001b[?25ldone\n",
      "\u001b[?25h  Stored in directory: /Users/prasanna/Library/Caches/pip/wheels/e5/3d/bd/338da91bbb3f9f1dfdc7887376a2b964759b6c516b460772ff\n",
      "  Running setup.py bdist_wheel for Mako ... \u001b[?25ldone\n",
      "\u001b[?25h  Stored in directory: /Users/prasanna/Library/Caches/pip/wheels/33/bf/8f/036f36c35e0e3c63a4685e306bce6b00b6349fec5b0947586e\n",
      "  Running setup.py bdist_wheel for alembic ... \u001b[?25ldone\n",
      "\u001b[?25h  Stored in directory: /Users/prasanna/Library/Caches/pip/wheels/70/52/76/48b43681474e215f8e581e90f1bbb075a780ecf3c37a4fc4aa\n",
      "  Running setup.py bdist_wheel for intervaltree ... \u001b[?25ldone\n",
      "\u001b[?25h  Stored in directory: /Users/prasanna/Library/Caches/pip/wheels/89/40/01/fa05b5a8202a472fb143815e7589fdf74369e710ca675cad11\n",
      "  Running setup.py bdist_wheel for lru-dict ... \u001b[?25ldone\n",
      "\u001b[?25h  Stored in directory: /Users/prasanna/Library/Caches/pip/wheels/f9/03/0f/d1ce2504868b2b6a626cdf756d0794fb219324678e893f5467\n",
      "  Running setup.py bdist_wheel for empyrical ... \u001b[?25ldone\n",
      "\u001b[?25h  Stored in directory: /Users/prasanna/Library/Caches/pip/wheels/d6/a2/18/8bef302c2d5e00cfbab94e65b9df91a5d155713fd396d5627d\n",
      "  Running setup.py bdist_wheel for requests-ftp ... \u001b[?25ldone\n",
      "\u001b[?25h  Stored in directory: /Users/prasanna/Library/Caches/pip/wheels/76/fb/0d/1026eb562c34a4982dc9d39c9c582a734eefe7f0455f711deb\n"
     ]
    },
    {
     "name": "stdout",
     "output_type": "stream",
     "text": [
      "  Running setup.py bdist_wheel for python-editor ... \u001b[?25ldone\n",
      "\u001b[?25h  Stored in directory: /Users/prasanna/Library/Caches/pip/wheels/84/d6/b8/082dc3b5cd7763f17f5500a193b6b248102217cbaa3f0a24ca\n",
      "Successfully built zipline Logbook cyordereddict bottleneck bcolz Mako alembic intervaltree lru-dict empyrical requests-ftp python-editor\n",
      "Installing collected packages: Logbook, requests-file, pandas, requests-ftp, pandas-datareader, cyordereddict, bottleneck, contextlib2, bcolz, click, multipledispatch, Mako, python-editor, alembic, sortedcontainers, intervaltree, lru-dict, empyrical, tables, zipline\n",
      "  Found existing installation: pandas 0.20.3\n",
      "    Uninstalling pandas-0.20.3:\n",
      "      Successfully uninstalled pandas-0.20.3\n",
      "Successfully installed Logbook-1.1.0 Mako-1.0.7 alembic-0.9.7 bcolz-0.12.1 bottleneck-1.2.1 click-6.7 contextlib2-0.5.5 cyordereddict-1.0.0 empyrical-0.3.3 intervaltree-2.1.0 lru-dict-1.1.6 multipledispatch-0.4.9 pandas-0.18.1 pandas-datareader-0.5.0 python-editor-1.0.3 requests-file-1.4.3 requests-ftp-0.3.1 sortedcontainers-1.5.9 tables-3.4.2 zipline-1.1.1\n"
     ]
    }
   ],
   "source": [
    "!pip install zipline"
   ]
  },
  {
   "cell_type": "code",
   "execution_count": null,
   "metadata": {},
   "outputs": [],
   "source": []
  },
  {
   "cell_type": "code",
   "execution_count": null,
   "metadata": {},
   "outputs": [],
   "source": []
  }
 ],
 "metadata": {
  "kernelspec": {
   "display_name": "Python 3",
   "language": "python",
   "name": "python3"
  },
  "language_info": {
   "codemirror_mode": {
    "name": "ipython",
    "version": 3
   },
   "file_extension": ".py",
   "mimetype": "text/x-python",
   "name": "python",
   "nbconvert_exporter": "python",
   "pygments_lexer": "ipython3",
   "version": "3.5.0"
  }
 },
 "nbformat": 4,
 "nbformat_minor": 2
}
