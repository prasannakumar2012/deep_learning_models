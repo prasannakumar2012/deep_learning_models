{
 "cells": [
  {
   "cell_type": "markdown",
   "metadata": {},
   "source": [
    "![title](lstm_arch.jpg)"
   ]
  },
  {
   "cell_type": "markdown",
   "metadata": {},
   "source": [
    "### One-to-one\n",
    "\n",
    "you might use a Dense layer as you are not processing sequences:\n",
    "\n",
    "model.add(Dense(output_size, input_shape=input_shape))\n",
    "\n",
    "\n",
    "\n",
    "\n",
    "### One-to-many\n",
    "\n",
    "this option is not supported well as chaining models is not very easy in Keras so the following version is the easiest one:\n",
    "\n",
    "model.add(RepeatVector(number_of_times, input_shape=input_shape))\n",
    "model.add(LSTM(output_size, return_sequences=True))\n",
    "\n",
    "\n",
    "\n",
    "\n",
    "\n",
    "### Many-to-one\n",
    "\n",
    "actually your code snippet is (allmost) example of this approach:\n",
    "\n",
    "model = Sequential()\n",
    "model.add(LSTM(1, input_shape=(timesteps, data_dim)))\n",
    "\n",
    "\n",
    "\n",
    "\n",
    "\n",
    "\n",
    "\n",
    "### Many-to-many\n",
    "\n",
    "This is the easiest snippet when length of input and output matches the number of reccurent steps:\n",
    "\n",
    "model = Sequential()\n",
    "model.add(LSTM(1, input_shape=(timesteps, data_dim), return_sequences=True))\n",
    "\n",
    "Many-to-many when number of steps differ from input/output length: this is freaky hard in Keras. There are no easy code snippets to code that."
   ]
  },
  {
   "cell_type": "code",
   "execution_count": null,
   "metadata": {},
   "outputs": [],
   "source": []
  }
 ],
 "metadata": {
  "kernelspec": {
   "display_name": "Python 3",
   "language": "python",
   "name": "python3"
  },
  "language_info": {
   "codemirror_mode": {
    "name": "ipython",
    "version": 3
   },
   "file_extension": ".py",
   "mimetype": "text/x-python",
   "name": "python",
   "nbconvert_exporter": "python",
   "pygments_lexer": "ipython3",
   "version": "3.5.0"
  }
 },
 "nbformat": 4,
 "nbformat_minor": 2
}
